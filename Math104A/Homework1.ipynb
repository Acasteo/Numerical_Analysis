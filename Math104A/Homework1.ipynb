{
 "cells": [
  {
   "cell_type": "markdown",
   "metadata": {},
   "source": [
    "# Homework 1\n",
    "## Austin Castelo"
   ]
  },
  {
   "cell_type": "markdown",
   "metadata": {},
   "source": [
    "#### 1 \n",
    "**a)** The Intermediate Value Theorem states that a continious function f on the interval [a,b] that takes the values f(a)=A and f(b)=B, then f takes any value between A and B on the interval [a,b]\n",
    "\n",
    " **b)** The Mean Value Theorem states that for a given planar arc with two end points there exists at least one point whose tangent is parallel to the secant through the end points.\n",
    " \n",
    "**c)** Rolle's Theorem states that any real-valued differeniable function that reaches an equal value at two unique points must contain a point where the derivative is zero between the two points.\n",
    "\n",
    "**d)** The Mean Value Theorem for Integrals states for a definate integral on the interval [a,b] there exists a point c on the interval that reaches its mean value.\n",
    "\n",
    "**e)** The Weighted Mean Value Theorem for Integrals states that if f is continious on [a,b] and g is integrable on [a,b] and does not change signs then $\\int^b_a{f(x)g(x)dx} = f(c) \\int^b_a{g(x)dx}$\n",
    "#### 2)"
   ]
  },
  {
   "cell_type": "code",
   "execution_count": 79,
   "metadata": {},
   "outputs": [],
   "source": [
    "import numpy as np\n",
    "# This is an implementation of the CTR\n",
    "# Written by Austin Castelo\n",
    "# 10/01/2018\n",
    "# INPUT: integral limits a and b, number of nodes N and the integrand f\n",
    "# OUPUT: CTR approximation to the integral of f from a to b\n",
    "def ctr(a,b,N,f):\n",
    "    h = (b-a)/float(N)\n",
    "    y = (f(a)+f(b))/2.0\n",
    "    for i in range(1,N):\n",
    "        y += f(a+(h*i))\n",
    "    return (h*y)"
   ]
  },
  {
   "cell_type": "code",
   "execution_count": 80,
   "metadata": {},
   "outputs": [
    {
     "name": "stdout",
     "output_type": "stream",
     "text": [
      "For h = 2/20 the error is -0.001601642128346903\n",
      "For h = 2/40 the error is -0.0004010274624657306\n",
      "For h = 2/80 the error is -0.0001002956805309374\n",
      "The errors converge to 0 at 3.993846502429418. Which is approx. equal to the quadratic rate of 4.\n"
     ]
    }
   ],
   "source": [
    "def f(x):\n",
    "    return (1/(1+x)**2)\n",
    "I_f = 2.0/3.0\n",
    "N = [20,40,80]\n",
    "E = np.zeros(3)\n",
    "a,b = 0,2\n",
    "for j,i in enumerate(N):\n",
    "    E[j] = I_f - ctr(a,b,i,f)\n",
    "    print(\"For h = 2/%s the error is %s\" %(i, E[j]))\n",
    "print(\"The errors converge to 0 at %s. Which is approx. equal to the quadratic rate of 4.\" %(E[0]/E[1]))"
   ]
  },
  {
   "cell_type": "markdown",
   "metadata": {},
   "source": [
    "Therefore, $T_n$ converges to $I[f]$ at approx. the quadratic rate."
   ]
  },
  {
   "cell_type": "code",
   "execution_count": 81,
   "metadata": {},
   "outputs": [
    {
     "name": "stdout",
     "output_type": "stream",
     "text": [
      "Exact value = 0.6666666666666666\n",
      "T_1/N = 0.6635811968772283 for N = 16\n",
      "T_1/N = 0.6655589362789418 for N = 32\n",
      "T_1/N = 0.6662708113785066 for N = 64\n",
      "T_1/N = 0.6665256572968263 for N = 128\n",
      "q for N = 16 is equal to 2.7782112380704507\n",
      "q for N = 32 is equal to 2.7933549191546763\n",
      "q for N = 64 is equal to 2.80384210256093\n",
      "q for N = 128 is equal to 2.8111489458839554\n"
     ]
    }
   ],
   "source": [
    "def f(x):\n",
    "    return x**(1.0/2.0)\n",
    "# This is an implementation of a quadratic ratio test\n",
    "# Written by Austin Castelo\n",
    "# 10/02/18\n",
    "# INPUT: integral limits a and b, number of nodes N and the integrand f\n",
    "# OUTPUT: ratio of difference of CTR approximations of h/2 and h/4\n",
    "def q(a,b,N,f):\n",
    "    top = ctr(a,b,2*N,f) - ctr(a,b,N,f)\n",
    "    bot = ctr(a,b,4*N,f) - ctr(a,b,2*N,f)\n",
    "    return top/bot\n",
    "a,b = 0,1\n",
    "N = [16,32,64,128]\n",
    "E = np.zeros(4)\n",
    "print(\"Exact value = %s\" %(I_f))\n",
    "for j,i in enumerate(N):\n",
    "    E[j] = ctr(a,b,i,f)\n",
    "    print(\"T_1/N = %s for N = %s\" %(E[j],i))\n",
    "for i in range(0,4):\n",
    "    print(\"q for N = %s is equal to %s\" %(N[i], q(a,b,N[i],f)))"
   ]
  },
  {
   "cell_type": "markdown",
   "metadata": {},
   "source": [
    "q seems to be increasing towards 4 and $T_{1/N}$ is approaching $I[f]$ as N increases. However, at the values of \n",
    "N = [16,32,64,128] q is not sufficently close to 4, so we can nont say it is second order convergent."
   ]
  },
  {
   "cell_type": "markdown",
   "metadata": {},
   "source": [
    "#### 3) a)"
   ]
  },
  {
   "cell_type": "code",
   "execution_count": 82,
   "metadata": {},
   "outputs": [],
   "source": [
    "def f(x):\n",
    "    return np.cos(x**2)"
   ]
  },
  {
   "cell_type": "code",
   "execution_count": 83,
   "metadata": {},
   "outputs": [
    {
     "name": "stdout",
     "output_type": "stream",
     "text": [
      "4.121367702511433\n",
      "4.121367702511433\n",
      "4.137834315947446\n",
      "4.066234425973838\n",
      "4.037922856268928\n",
      "4.024433973408837\n",
      "4.017023628383984\n",
      "4.012530309382763\n"
     ]
    }
   ],
   "source": [
    "a,b = 0, (np.pi/2)**(1/2)\n",
    "N = 1\n",
    "print(q(a,b,N,f))\n",
    "while  abs(q(a,b,N,f)-4) > 0.01:\n",
    "    print(q(a,b,N,f))\n",
    "    N+=1"
   ]
  },
  {
   "cell_type": "code",
   "execution_count": 84,
   "metadata": {},
   "outputs": [
    {
     "name": "stdout",
     "output_type": "stream",
     "text": [
      "0.15666426716443752\n",
      "4.009604576121296\n"
     ]
    }
   ],
   "source": [
    "h = b/N\n",
    "print(h)\n",
    "print(q(a,b,N,f))"
   ]
  },
  {
   "cell_type": "markdown",
   "metadata": {},
   "source": [
    "**b)**"
   ]
  },
  {
   "cell_type": "code",
   "execution_count": 85,
   "metadata": {},
   "outputs": [
    {
     "name": "stdout",
     "output_type": "stream",
     "text": [
      "The approximate error for h = 0.15666426716443752 is 0.005143262002018792\n"
     ]
    }
   ],
   "source": [
    "# This is an implementation of the error approximation C_2h^2 for sufficently small h\n",
    "# Written by Austin Castelo\n",
    "# 10/03/18\n",
    "# INPUT: integral limits a and b, number of nodes N and the integrand f\n",
    "# OUTPUT: error approximation of I[f]-T_h[f] for sufficently small h from a to b\n",
    "def C2h2(a,b,f,N):\n",
    "    return 4/3*(ctr(a,b,2*N,f)- ctr(a,b,N,f))\n",
    "print(\"The approximate error for h = %s is %s\" %(h,C2h2(a,b,f,N)))"
   ]
  },
  {
   "cell_type": "markdown",
   "metadata": {},
   "source": [
    "**c)**"
   ]
  },
  {
   "cell_type": "code",
   "execution_count": 86,
   "metadata": {},
   "outputs": [
    {
     "name": "stdout",
     "output_type": "stream",
     "text": [
      "The extrapolated improved approximation for h = 0.15666426716443752 is 0.9774547100897207\n"
     ]
    }
   ],
   "source": [
    "# This is an implementation of extrapolated improved approximation of f\n",
    "# Written by Austin Castelo\n",
    "# 10/03/18\n",
    "# INPUT: integral limits a and b, number of nodes N and the integrand f\n",
    "# OUTPUT: extrapolated improved approximation of f from a to b\n",
    "def S_h(a,b,f,N):\n",
    "    return ctr(a,b,N,f)+C2h2(a,b,f,N)\n",
    "print(\"The extrapolated improved approximation for h = %s is %s\" %(h, S_h(a,b,f,N)))"
   ]
  },
  {
   "cell_type": "markdown",
   "metadata": {},
   "source": [
    "**d)**\n",
    "\n",
    "$f = cos(x^2)$\n",
    "\n",
    "$S_h(f)$ is a better approximation of $I[f]$ and converges faster than $T_h(f)$ because with h sufficently small $4/3(T_{h/2}(f) - T_h(f))$ accounts for part of $E_h[f]$ in $T_h(f)$. Therfore, the errors of $S_h(f)$ converge to 0 faster and $S_h(f)$ converges to $I[f]$ faster than $T_h(f)$."
   ]
  },
  {
   "cell_type": "code",
   "execution_count": null,
   "metadata": {},
   "outputs": [],
   "source": []
  }
 ],
 "metadata": {
  "kernelspec": {
   "display_name": "Python 3",
   "language": "python",
   "name": "python3"
  },
  "language_info": {
   "codemirror_mode": {
    "name": "ipython",
    "version": 3
   },
   "file_extension": ".py",
   "mimetype": "text/x-python",
   "name": "python",
   "nbconvert_exporter": "python",
   "pygments_lexer": "ipython3",
   "version": "3.6.8"
  }
 },
 "nbformat": 4,
 "nbformat_minor": 2
}
