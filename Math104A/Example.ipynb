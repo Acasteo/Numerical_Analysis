{
 "cells": [
  {
   "cell_type": "markdown",
   "metadata": {},
   "source": [
    "# Composite Trapezoidal Rule\n",
    "\n",
    "## Hector Ceniceros\n",
    "\n",
    "The composite trapezoidal rule (CTR) applies the simple trapezoid approximation \n",
    "\n",
    "$$\n",
    "\\int_{x_j}^{x_{j+1}} f(x) dx \\approx \\frac{h}{2}[ f(x_j) + f(x_{j+1}) ]\n",
    "$$\n",
    "\n",
    "to each subinterval $[x_j,x_{j+1}]$, so that \n",
    "$$\n",
    "\\int_a^b f(x) dx \\approx h \\left[\\frac{f(x_0)}{2} + f(x_1) +\\ldots + f(x_{n-1}) + \\frac{f(x_N)}{2} \\right]\n",
    "$$\n",
    "\n",
    "<!---We are going to illustrate some **fundamental** concepts with one example: Approximate integration. \n",
    "    1. Example\n",
    "    2. Idea\n",
    "    3. Just a list \n",
    "-->\n",
    "\n",
    "Now let us see implement the CTR in python. We need as **input** a,b,n and of course the function $f$ of its values \n",
    "$f(x_0), f(x_1), \\ldots,f(x_N)$.\n",
    "\n",
    "   \n"
   ]
  },
  {
   "cell_type": "code",
   "execution_count": 29,
   "metadata": {},
   "outputs": [],
   "source": [
    "# We are going to define first the function whose integral we want to approximate\n",
    "from math import exp\n",
    "def f(x):\n",
    "    return exp(-x*x)\n",
    "   \n",
    "\n",
    "# This is an implementation of the CTR\n",
    "# Written by H.D. Ceniceros\n",
    "# 09/21/2018\n",
    "# INPUT: integral limits a and b, number of nodes n and the integrand f\n",
    "# OUPUT: CTR approximation to the integral of f from a to b\n",
    "def trapezoidal(n,a,b,f):\n",
    "    h = (b-a)/float(n)\n",
    "    s =(f(a)+f(b))/2.0\n",
    "    for i in range(1,n):\n",
    "        xi = a + i*h\n",
    "        s += f(xi)\n",
    "    return s*h\n"
   ]
  },
  {
   "cell_type": "markdown",
   "metadata": {},
   "source": [
    "Let us test the code.\n"
   ]
  },
  {
   "cell_type": "code",
   "execution_count": 30,
   "metadata": {},
   "outputs": [
    {
     "name": "stdout",
     "output_type": "stream",
     "text": [
      "integral = 0.7462107961317495\n"
     ]
    }
   ],
   "source": [
    "a=0;b=1\n",
    "n=10\n",
    "T = trapezoidal(n,a,b,f)\n",
    "print(\"integral =\", T)"
   ]
  },
  {
   "cell_type": "code",
   "execution_count": 31,
   "metadata": {},
   "outputs": [
    {
     "name": "stdout",
     "output_type": "stream",
     "text": [
      "q =  [4.00124908 4.00031244 4.00007812 4.00001953 4.00000488]\n"
     ]
    }
   ],
   "source": [
    "import numpy as np\n",
    "n = np.array([10,20,40,80,160,320,640],dtype=int)\n",
    "kmax = n.size\n",
    "T = np.zeros(kmax)\n",
    "q = np.zeros(kmax-2)\n",
    "for k in range(0,kmax):\n",
    "    T[k] = trapezoidal(n[k],a,b,f)\n",
    "    \n",
    "for k in range(0,kmax-2):\n",
    "    q[k]=(T[k+1]-T[k])/(T[k+2]-T[k+1])\n",
    "\n",
    "print(\"q = \", q)"
   ]
  },
  {
   "cell_type": "markdown",
   "metadata": {},
   "source": [
    "A ratio $q$ close to 4 means that we have second order accuracy (in $h$). Let's extrapolate now to construct a more accurate approximation:"
   ]
  },
  {
   "cell_type": "code",
   "execution_count": null,
   "metadata": {},
   "outputs": [],
   "source": []
  }
 ],
 "metadata": {
  "kernelspec": {
   "display_name": "Python 3",
   "language": "python",
   "name": "python3"
  },
  "language_info": {
   "codemirror_mode": {
    "name": "ipython",
    "version": 3
   },
   "file_extension": ".py",
   "mimetype": "text/x-python",
   "name": "python",
   "nbconvert_exporter": "python",
   "pygments_lexer": "ipython3",
   "version": "3.6.5"
  }
 },
 "nbformat": 4,
 "nbformat_minor": 2
}
