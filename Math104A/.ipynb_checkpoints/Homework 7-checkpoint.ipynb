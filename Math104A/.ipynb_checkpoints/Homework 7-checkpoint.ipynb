{
 "cells": [
  {
   "cell_type": "markdown",
   "metadata": {},
   "source": [
    "# Homework 7\n",
    "## Austin Castelo\n",
    "\n",
    "### 1)"
   ]
  },
  {
   "cell_type": "markdown",
   "metadata": {},
   "source": [
    "The numpy.fft package defines the coefficents of the DFT for $k = 0, \\ldots,N-1$ as\n",
    "\n",
    "$c_k = \\sum_{j=0}^{N-1} f_j \\exp\\left\\{-2\\pi i{jk \\over N}\\right\\} \\qquad k = 0,\\ldots,N-1$\n",
    "\n",
    "which is equation (1)"
   ]
  },
  {
   "cell_type": "markdown",
   "metadata": {},
   "source": [
    "### 2)\n",
    "\n",
    "The numpy.fft package defines the coefficents of the inverse DFT for $k = 0, \\ldots,N-1$ as\n",
    "\n",
    "$f_j = \\frac{1}{N}\\sum_{k=0}^{N-1}c_k\\exp\\left\\{2\\pi i{jk\\over n}\\right\\} \\qquad j = 0,\\ldots,N-1.$\n",
    "\n",
    "which is equation (2)"
   ]
  },
  {
   "cell_type": "markdown",
   "metadata": {},
   "source": [
    "### 3)\n",
    "\n",
    "$f_j \\in \\mathbb{R}$  $\\forall j \\in [0,1,\\ldots,N-1]$\n",
    "\n",
    "Prove $c_0$ is real and $c_{N-k} = \\bar{c_k}$\n",
    "\n",
    "$\\textbf{Proof:}$\n",
    "\n",
    "Must show $c_0 \\in \\mathbb{R}$\n",
    "\n",
    "$c_k = \\sum_{j=0}^{N-1} f_j \\exp\\left\\{-2\\pi i{jk \\over N}\\right\\} \\iff c_0 = \\sum_{j=0}^{N-1} f_j \\exp\\left\\{-2\\pi i{j(0) \\over N}\\right\\}$\n",
    "\n",
    "$\\iff c_0 = \\sum_{j=0}^{N-1}f_j$\n",
    "\n",
    "Since $f_j \\in \\mathbb{R}$  $\\forall j \\in [0,1,\\ldots,N-1]$, $c_0 \\in \\mathbb{R}$"
   ]
  },
  {
   "cell_type": "markdown",
   "metadata": {},
   "source": [
    "Must show $c_{N-k}= \\bar{c_k}$\n",
    "\n",
    "$c_{N-k}= \\sum_{j=0}^{N-1}f_j\\omega_N^{(N-k)j}$\n",
    "\n",
    "Since $f_j$ are real numbers for $j\\in[0,1,\\ldots,N-1]$ it suffices to prove $\\omega_N^{(N-k)j}=\\bar{\\omega}_N^{kj}$\n",
    "\n",
    "Which is equivalent to proving $\\omega_N^{(N-k)}=\\bar{\\omega}_N^k$\n",
    "\n",
    "$\\bar{\\omega}_N^k = \\exp\\left\\{i2\\pi {k\\over N}\\right\\}$\n",
    "\n",
    "$\\omega_N^{(N-k)} = \\exp\\left\\{-i2\\pi{N-k\\over N}\\right\\} = \\exp\\left\\{-i2\\pi + i2\\pi{k\\over N}\\right\\}= \\exp\\left\\{-i2\\pi\\right\\}\\exp\\left\\{i2\\pi{k\\over N}\\right\\} = \\exp\\left\\{i2\\pi{k\\over N}\\right\\}$\n",
    "\n",
    "Thus, $\\omega_N^{(N-k)}=\\bar{\\omega}_N^k$, which implies $c_{N-k}= \\bar{c_k}$"
   ]
  },
  {
   "cell_type": "markdown",
   "metadata": {},
   "source": [
    "### 4)\n",
    "\n",
    "$a_k = {2\\over N} \\sum_{j=0}^{N-1} f_j cos(kx_j)$ for $k=0,1,\\ldots,{N\\over 2}$\n",
    "\n",
    "$ \\iff a_k = {2\\over N} \\sum_{j=0}^{N-1} f_j{1\\over 2}(\\exp\\left\\{ikx_j\\right\\}+\\exp\\left\\{-ikx_j\\right\\})$ \n",
    "\n",
    "$\\iff {1\\over N} \\sum_{j=0}^{N-1} f_j(\\exp\\left\\{ikj{2\\pi \\over N}\\right\\}+\\exp\\left\\{-ikj{2\\pi \\over N}\\right\\})$ \n",
    "\n",
    "$\\iff {1 \\over N}(\\bar{c}_k + c_k)$\n",
    "\n",
    "$b_k = {2\\over N} \\sum_{j=0}^{N-1} f_j sin(kx_j)$ for $k=0,1,\\ldots,{N\\over 2}-1$\n",
    "\n",
    "$\\iff b_k = {2\\over N} \\sum_{j=0}^{N-1} f_j{1\\over 2}(-i\\exp\\left\\{ikx_j\\right\\}+ i\\exp\\left\\{-ikx_j\\right\\})$ \n",
    "\n",
    "$\\iff {i\\over N} \\sum_{j=0}^{N-1} f_j(-\\exp\\left\\{ikx_j\\right\\}+ \\exp\\left\\{-ikx_j\\right\\})$ \n",
    "\n",
    "$\\iff {i\\over N} \\sum_{j=0}^{N-1} f_j(-\\exp\\left\\{ikj{2\\pi \\over N}\\right\\}+ \\exp\\left\\{-ikj{2\\pi \\over N}\\right\\})$\n",
    "\n",
    "$\\iff {i \\over N}(- \\bar{c}_k + c_k)$\n",
    "\n",
    "### 5)"
   ]
  },
  {
   "cell_type": "code",
   "execution_count": 14,
   "metadata": {},
   "outputs": [
    {
     "data": {
      "text/plain": [
       "array([8.00000000e+00 +0.j, 8.00000000e+00-16.j, 1.20000000e+01-20.j,\n",
       "       3.10862447e-15 +0.j, 3.55271368e-15 +0.j, 3.10862447e-15 -0.j,\n",
       "       1.20000000e+01+20.j, 8.00000000e+00+16.j])"
      ]
     },
     "execution_count": 14,
     "metadata": {},
     "output_type": "execute_result"
    }
   ],
   "source": [
    "import numpy as np\n",
    "\n",
    "f = [6.000000000000000,\n",
    "     10.242640687119284,\n",
    "     2.000000000000000,\n",
    "     -2.585786437626905,\n",
    "     2.000000000000000,\n",
    "     1.757359312880716,\n",
    "     -6.000000000000000,\n",
    "     -5.414213562373098]\n",
    "f=np.fft.fft(f)\n",
    "f"
   ]
  },
  {
   "cell_type": "markdown",
   "metadata": {},
   "source": [
    "$P_8(x)={a_0\\over 2} + \\sum_{k=1}^{{8\\over2}-1}(a_kcos(kx)+b_ksin(kx))+{a_{8/2}\\over 2}cos({8\\over 2}x)$\n",
    "\n",
    "$a_0 = {1\\over 8}(\\bar{c}_0 + c_0)= {(8+8)\\over 8} = 2$\n",
    "\n",
    "$a_1 = {(8+8)\\over 8} = 2$\n",
    "\n",
    "$b_1 = {i\\over 8}(-\\bar{c}_1 + c_1) = {i \\over 8}(-(8+16i)+(8-16i))={i \\over 8}(-32i)=4$\n",
    "\n",
    "$a_2 = {(2*12)\\over 8}=3$\n",
    "\n",
    "$b_2 = {i \\over 8}(-\\bar{c}_2 + c_2) = {i \\over 8}(-40i)=5$\n",
    "\n",
    "$a_3 = {(2*3.10862447e-15)\\over 8} = 7.771561175 × 10^-16$\n",
    "\n",
    "$b_3 = {i \\over 8}(-\\bar{c}_3 + c_3) = {i \\over 8}(0+0)=0$\n",
    "\n",
    "$a_4 = {1\\over 8}(\\bar{c}_4 + c_4) = {(3.55271368e-15*2) \\over 8}= 8.8817842 × 10^-16$\n",
    "\n",
    "$P_8(x)={2\\over 2} + \\sum_{k=1}^{3}(a_kcos(kx)+b_ksin(kx))+{8.8817842 × 10^-16\\over 2}cos({4}x)$\n",
    "\n",
    "$P_8(x) = 1+ 2cos(x)+4sin(x)+3cos(2x)+5sin(2x)+7.771561175 × 10^{-16}cos(3x)+{8.8817842 × 10^{-16}\\over 2}cos({4}x)$"
   ]
  },
  {
   "cell_type": "markdown",
   "metadata": {},
   "source": [
    "### 6)"
   ]
  },
  {
   "cell_type": "code",
   "execution_count": 467,
   "metadata": {},
   "outputs": [],
   "source": [
    "def f(x):\n",
    "    return np.e**(np.sin(x))\n",
    "def f_p(x):\n",
    "    return(np.e**(np.sin(x))*np.cos(x))\n",
    "def x(N):\n",
    "    x = []\n",
    "    for j in range(N):\n",
    "        x.append(j*2*np.pi/N)\n",
    "    return x\n",
    "# This is an implementation of a Fourier 1st Derivative Polynomial interpolant of degree N\n",
    "# Written by Austin Castelo\n",
    "# 12/3/2018\n",
    "# INPUT: value to interpolate x, list of values used for interpolation f, degree N, and DFT coefficents from FFT c\n",
    "# OUPUT: interpolated derivative at point x P_n \n",
    "def P1(x,f,N, c):\n",
    "    c = c/N\n",
    "    i = complex(0,1)\n",
    "    P_n = ((i*-int(N/2))*c[0]*(np.exp(-i*int(N/2)*x)))/2\n",
    "    for k in range(-int(N/2)+1, int(N/2)):\n",
    "        c_k = (i*k)*c[k]\n",
    "        P_n += c_k*(np.exp(i*k*x))\n",
    "    P_n += ((i*int(N/2))*c[0]*np.exp(i*int(N/2)*x))/2\n",
    "    return P_n"
   ]
  },
  {
   "cell_type": "code",
   "execution_count": 468,
   "metadata": {},
   "outputs": [],
   "source": [
    "x_n = x(8)\n",
    "f_8 = f(x_n)\n",
    "P_8 = []\n",
    "c = np.fft.fft(f_8)\n",
    "for i in x_n:\n",
    "    P_8.append(P1(i,f_8,8, c))"
   ]
  },
  {
   "cell_type": "code",
   "execution_count": 469,
   "metadata": {},
   "outputs": [
    {
     "data": {
      "text/plain": [
       "[(0.9956820889014129+0j),\n",
       " (1.4375429562572408+0j),\n",
       " (1.8258810739490552e-15+0j),\n",
       " (-1.437542956257243+0j),\n",
       " (-0.995682088901411+0j),\n",
       " (-0.35138168662675706+0j),\n",
       " (3.657898842649997e-15+0j),\n",
       " (0.35138168662674935+0j)]"
      ]
     },
     "execution_count": 469,
     "metadata": {},
     "output_type": "execute_result"
    }
   ],
   "source": [
    "P_8"
   ]
  },
  {
   "cell_type": "code",
   "execution_count": 470,
   "metadata": {},
   "outputs": [
    {
     "data": {
      "text/plain": [
       "array([ 1.00000000e+00,  1.43409386e+00,  1.66446757e-16, -1.43409386e+00,\n",
       "       -1.00000000e+00, -3.48652215e-01, -6.75783570e-17,  3.48652215e-01])"
      ]
     },
     "execution_count": 470,
     "metadata": {},
     "output_type": "execute_result"
    }
   ],
   "source": [
    "f_p8 = f_p(x_n)\n",
    "f_p8"
   ]
  },
  {
   "cell_type": "code",
   "execution_count": 471,
   "metadata": {},
   "outputs": [
    {
     "data": {
      "text/plain": [
       "array([4.31791110e-03, 3.44909971e-03, 1.65943432e-15, 3.44909971e-03,\n",
       "       4.31791110e-03, 2.72947135e-03, 3.72547720e-15, 2.72947135e-03])"
      ]
     },
     "execution_count": 471,
     "metadata": {},
     "output_type": "execute_result"
    }
   ],
   "source": [
    "error = abs(f_p8-P_8)\n",
    "error"
   ]
  },
  {
   "cell_type": "markdown",
   "metadata": {},
   "source": [
    "### 7)\n",
    "#### a)"
   ]
  },
  {
   "cell_type": "code",
   "execution_count": 495,
   "metadata": {},
   "outputs": [],
   "source": [
    "# This is an implementation of a Fourier 1st Derivative Polynomial interpolant of degree N using FFT and iFFT\n",
    "# Written by Austin Castelo\n",
    "# 12/4/2018\n",
    "# INPUT: list of values from function to interpolate f and degree N\n",
    "# OUPUT: list of interpolated derivatives at points f\n",
    "def P1_2(f,N):\n",
    "    c = np.fft.fft(f)\n",
    "    i = complex(0,1)\n",
    "    for k in range(-int(N/2)+1, int(N/2)):\n",
    "        c[k] = (i*k)*c[k]\n",
    "    f = np.fft.ifft(c)\n",
    "    return f"
   ]
  },
  {
   "cell_type": "code",
   "execution_count": 496,
   "metadata": {},
   "outputs": [
    {
     "data": {
      "text/plain": [
       "array([ 1.00115633+0.00000000e+00j,  1.43206872+3.19694302e-18j,\n",
       "        0.00547424+0.00000000e+00j, -1.4430172 +3.19694302e-18j,\n",
       "       -0.99020785+0.00000000e+00j, -0.35685593-3.19694302e-18j,\n",
       "        0.00547424+0.00000000e+00j,  0.34590745-3.19694302e-18j])"
      ]
     },
     "execution_count": 496,
     "metadata": {},
     "output_type": "execute_result"
    }
   ],
   "source": [
    "P_1 = P1_2(f_8,8)\n",
    "P_1"
   ]
  },
  {
   "cell_type": "markdown",
   "metadata": {},
   "source": [
    "#### b)"
   ]
  },
  {
   "cell_type": "code",
   "execution_count": 497,
   "metadata": {},
   "outputs": [
    {
     "data": {
      "text/plain": [
       "array([0.00547424, 0.00547424, 0.00547424, 0.00547424, 0.00547424,\n",
       "       0.00547424, 0.00547424, 0.00547424])"
      ]
     },
     "execution_count": 497,
     "metadata": {},
     "output_type": "execute_result"
    }
   ],
   "source": [
    "abs(P_1-P_8)"
   ]
  },
  {
   "cell_type": "markdown",
   "metadata": {},
   "source": [
    "#### c)"
   ]
  },
  {
   "cell_type": "code",
   "execution_count": 498,
   "metadata": {},
   "outputs": [],
   "source": [
    "x_16 = x(16)\n",
    "x_32 = x(32)\n",
    "f_16 = f(x_16)\n",
    "f_32 = f(x_32)\n",
    "f_p16 = f_p(x_16)\n",
    "f_p32 = f_p(x_32)\n",
    "P_16 = P1_2(f_16,16)\n",
    "P_32 = P1_2(f_32,32)\n",
    "error_16 = abs(f_p16-P_16)\n",
    "error_32 = abs(f_p32-P_32)"
   ]
  },
  {
   "cell_type": "code",
   "execution_count": 499,
   "metadata": {},
   "outputs": [
    {
     "data": {
      "text/plain": [
       "array([2.30231691e-08, 3.00067131e-08, 6.52540926e-08, 1.25019353e-07,\n",
       "       1.99212481e-07, 2.73405608e-07, 3.33170869e-07, 3.68418249e-07,\n",
       "       3.75401795e-07, 3.55993050e-07, 3.15552047e-07, 2.60913902e-07,\n",
       "       1.99212480e-07, 1.37511058e-07, 8.28729130e-08, 4.24319119e-08])"
      ]
     },
     "execution_count": 499,
     "metadata": {},
     "output_type": "execute_result"
    }
   ],
   "source": [
    "error_16"
   ]
  },
  {
   "cell_type": "code",
   "execution_count": 500,
   "metadata": {},
   "outputs": [
    {
     "data": {
      "text/plain": [
       "array([1.55431223e-15, 8.88606824e-16, 2.22044605e-16, 4.44307609e-16,\n",
       "       1.99852353e-15, 1.77647207e-15, 7.77451293e-16, 3.33525263e-16,\n",
       "       1.08660296e-15, 1.22124534e-15, 1.55431223e-15, 1.99844927e-15,\n",
       "       3.33074233e-15, 1.77636797e-15, 3.10866551e-15, 1.11024864e-15,\n",
       "       2.66453526e-15, 4.44966113e-16, 3.33066907e-15, 1.05480385e-15,\n",
       "       1.77649418e-15, 3.89121919e-16, 6.10998297e-16, 1.22136894e-15,\n",
       "       1.13358045e-16, 1.80411318e-16, 8.32667268e-16, 5.27537155e-16,\n",
       "       6.11022094e-16, 1.27677037e-15, 4.44376381e-16, 2.88658999e-15])"
      ]
     },
     "execution_count": 500,
     "metadata": {},
     "output_type": "execute_result"
    }
   ],
   "source": [
    "error_32"
   ]
  },
  {
   "cell_type": "code",
   "execution_count": null,
   "metadata": {},
   "outputs": [],
   "source": []
  }
 ],
 "metadata": {
  "kernelspec": {
   "display_name": "Python 3",
   "language": "python",
   "name": "python3"
  },
  "language_info": {
   "codemirror_mode": {
    "name": "ipython",
    "version": 3
   },
   "file_extension": ".py",
   "mimetype": "text/x-python",
   "name": "python",
   "nbconvert_exporter": "python",
   "pygments_lexer": "ipython3",
   "version": "3.6.5"
  }
 },
 "nbformat": 4,
 "nbformat_minor": 2
}
