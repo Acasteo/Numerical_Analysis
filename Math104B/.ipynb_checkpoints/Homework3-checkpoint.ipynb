{
 "cells": [
  {
   "cell_type": "markdown",
   "metadata": {},
   "source": [
    "# Homework 3\n",
    "### Austin Castelo"
   ]
  },
  {
   "cell_type": "markdown",
   "metadata": {},
   "source": [
    "### (1)\n",
    "\n",
    "$\\textbf{Proof:}$\n",
    "\n",
    "Let f be the function we wish to approximate\n",
    "\n",
    "Let $c(x)$ be the cubic interpolating polynomial $c(x)= a_0x^3+a_1x^2+a_2x+a_3$ s.t.\n",
    "\n",
    "$c(-1) = f(-1) = -a_0+a_1-a_2+a_3$\n",
    "\n",
    "$c(0) = f(0)= a_3$\n",
    "\n",
    "$c^{'}(0) = f^{'}(0) = a_2$\n",
    "\n",
    "$c(1) = f(1) = a_0+a_1+a_2+a_3$\n",
    "\n",
    "Due to the fact $\\int_{-1}^{1} c(x)dx = \\frac{2}{3}a_1+2a_3$ we only need to find $a_1$ and $a_3$\n",
    "\n",
    "$c(-1)+c(1)= 2a_1+2a_3= f(-1)+f(1)$\n",
    "\n",
    "$\\iff a_1+a_3=\\frac{f(-1)+f(1)}{2} \\iff a_1 = \\frac{f(-1)+f(1)}{2}-f(0)$ by $f(0)=a_3$\n",
    "\n",
    "Thus, we get\n",
    "\n",
    "$\\int_{-1}^{1} f(x)dx \\approx \\int_{-1}^{1} c(x)dx = \\frac{2}{3}(\\frac{f(-1)+f(1)}{2}-f(0))+2f(0) = \\frac{1}{3}[f(-1)+4f(0)+f(1)]$ exact for polynomials of degree $\\leq 3$\n",
    "\n",
    "\n"
   ]
  },
  {
   "cell_type": "markdown",
   "metadata": {},
   "source": [
    "### (2)\n",
    "\n",
    "$\\int_{-1}^{1}f(x)dx = \\int_{-1}^{0}(1+x)dx + \\int_{0}^{1}(1-x)dx =(0+\\frac{1}{2})+(\\frac{1}{2}-0) = 1$\n",
    "\n",
    "#### (a) elementary Trapezodial rule over [-1,1]\n",
    "\n",
    "$\\int_{-1}^{1} f(x)dx \\approx \\frac{1}{2} (b-a)(f(1)+f(-1)) = \\frac{1}{2}(1-(-1))(0+0)=0$\n",
    "\n",
    "Error $= |0-1|=1$\n",
    "\n",
    "#### (b) elementary Simpson's rule over [-1,1]\n",
    "\n",
    "$\\int_{-1}^{1} f(x)dx \\approx \\frac{1}{3}[f(-1)+4f(0)+f(1)]= \\frac{1}{3}[0+4(1)+0]=\\frac{4}{3}$\n",
    "\n",
    "Error $= |\\frac{4}{3}-1|=\\frac{1}{3}$\n",
    "\n",
    "#### (c) elementary Trapezodial rule over [-1,0] and [0,1]\n",
    "\n",
    "$\\int_{-1}^{1} f(x)dx \\approx \\frac{1}{2}(1)(f(0)+f(-1))+\\frac{1}{2} (1)(f(1)+f(0))= \\frac{1}{2}+\\frac{1}{2}=1$\n",
    "\n",
    "Error $=|1-1|=0$\n",
    "\n",
    "The elementary Trapezodial rule over [-1,1] performs the worst because it does not account for the function reaching its max in the middle of the interval at f(0), and forms a trapezoid from the minimiums f(-1) and f(1). The Simpson's rule performs better because it takes the midpoint of the interval into account, and the elementary Trapezoidal rule over [-1,0] and [0,1] performs the best because by splitting the interval we are able to perfectly match the function due to f being linear in both intervals."
   ]
  },
  {
   "cell_type": "markdown",
   "metadata": {},
   "source": [
    "### (3)\n",
    "\n",
    "#### (a)\n",
    "\n",
    "$$\\int_{-1}^{1}f(x)dx \\approx A_0f(-1)+A_1f(0)+A_2f(1)$$\n",
    "\n",
    "From the notes, we see that the Simpson's Quadrature is exact for polynomials of degree $\\leq 2$ given by:\n",
    "\n",
    "$$\\int_{-1}^{1}f(x)dx = \\frac{1}{3}(f(-1)+4f(0)+f(1))-\\frac{1}{90} f^{4}(\\eta)$$\n",
    "\n",
    "Since f is a polynomial of degree $\\leq 2$ then $\\frac{1}{90} f^{4}(\\eta)=0$\n",
    "\n",
    "Thus, $A_0=\\frac{1}{3}$, $A_1=\\frac{4}{3}$, and $A_2=\\frac{1}{3}$."
   ]
  },
  {
   "cell_type": "markdown",
   "metadata": {},
   "source": [
    "#### (b)\n",
    "\n",
    "3-point (Legendre) Gaussian quadrature to appproximate $\\int_{-1}^{1}f(x)dx$\n",
    "\n",
    "$\\psi_0(x) = 1$\n",
    "\n",
    "$\\psi_1(x) = x-\\alpha_0$\n",
    "\n",
    "$\\alpha_0 = \\frac{\\int_{-1}^{1}xdx}{\\int_{-1}^{1}1dx}=0$\n",
    "\n",
    "$\\psi_1(x) = x$\n",
    "\n",
    "$\\psi_2(x)=(x-\\alpha_1)\\psi_1(x)-\\beta_1 \\psi_0(x)$\n",
    "\n",
    "$\\alpha_1 = \\frac{\\int_{-1}^{1}x^3dx}{\\int_{-1}^{1}x^2dx}=0$\n",
    "\n",
    "$\\beta_1 = \\frac{\\int_{-1}^{1}x^2dx}{\\int_{-1}^{1}1dx}= \\frac{\\frac{2}{3}}{2} = \\frac{1}{3}$\n",
    "\n",
    "$\\psi_2(x)=x\\psi_1(x)-\\frac{1}{3}\\psi_0 = x^2-\\frac{1}{3}$\n",
    "\n",
    "$\\psi_3(x)=(x-\\alpha_2)\\psi_2(x)-\\beta_2 \\psi_1(x)$\n",
    "\n",
    "$\\alpha_2 = \\frac{\\int_{-1}^{1}x(x^2-\\frac{1}{3})^2dx}{\\int_{-1}^{1}(x^2-\\frac{1}{3})^2dx}=\\frac{\\int_{-1}^{1}x^5-\\frac{2x^3}{3}+\\frac{x}{9}dx}{\\int_{-1}^{1}x^4-\\frac{2x^2}{3}+\\frac{1}{9}dx}=\\frac{0}{\\frac{8}{45}}=0$\n",
    "\n",
    "$\\beta_2 = \\frac{\\int_{-1}^{1}(x^2-\\frac{1}{3})^2dx}{\\int_{-1}^{1}x^2dx}= \\frac{\\frac{8}{45}}{\\frac{2}{3}}=\\frac{8}{30}= \\frac{4}{15}$\n",
    "\n",
    "$\\psi_3(x)=(x)\\psi_2(x)-\\frac{4}{15} \\psi_1(x) = x^3-\\frac{x}{3}-\\frac{4x}{15}= x^3 -\\frac{3x}{5}$\n",
    "\n",
    "$x_0,x_1,x_2$ are the roots of $x^3 -\\frac{3x}{5}$\n",
    "\n",
    "$x^3 -\\frac{3x}{5}= 0$\n",
    "\n",
    "$x(x^2-\\frac{3}{5})=x(x-\\sqrt{\\frac{3}{5}})(x+\\sqrt{\\frac{3}{5}})$\n",
    "\n",
    "$[x_0,x_1,x_2]=[-\\sqrt{\\frac{3}{5}},0,\\sqrt{\\frac{3}{5}}]$\n",
    "\n",
    "$l_j(x)= \\prod_{k=0,k\\neq j}^{n} \\frac{x-x_k}{(x_j-x_k)}$\n"
   ]
  },
  {
   "cell_type": "markdown",
   "metadata": {},
   "source": [
    "$A_j = \\int_{a}^{b}l_jw(x)dx$\n",
    "\n",
    "$\\int_{a}^{b}f(x)w(x)dx=\\sum_{j=0}^{n}A_jf(x_j)$\n",
    "\n",
    "Set $w(x)=1$\n",
    "\n",
    "$\\int_{-1}^{1}f(x)dx=\\sum_{j=0}^{2}A_jf(x_j)=A_0f(-\\sqrt{\\frac{3}{5}})+A_1f(0)+A_2f(\\sqrt{\\frac{3}{5}})$\n",
    "\n",
    "$A_0 = \\int_{-1}^{1}l_0dx$\n",
    "\n",
    "$l_0 = \\frac{(x-0)(x-\\sqrt{\\frac{3}{5}})}{(-\\sqrt{\\frac{3}{5}}-0)(-\\sqrt{\\frac{3}{5}}-\\sqrt{\\frac{3}{5}})}=\\frac{x^2-\\sqrt{\\frac{3}{5}}x}{2(\\frac{3}{5})}=\\frac{5}{6}(x^2-\\sqrt{\\frac{3}{5}}x)$\n",
    "\n",
    "$A_0 = \\frac{5}{6}\\int_{-1}^{1}(x^2-\\sqrt{\\frac{3}{5}}x)dx = \\frac{5}{6}[\\frac{x^3}{3}-\\sqrt{\\frac{3}{5}}\\frac{x^2}{2}]_{-1}^{1}=\\frac{5}{9}$\n",
    "\n",
    "$A_1= \\int_{-1}^{1}l_1dx$\n",
    "\n",
    "$l_1 = \\frac{x^3-\\frac{3}{5}}{\\frac{3}{5}}$\n",
    "\n",
    "$A_1= \\frac{5}{3} \\int_{-1}^{1}x^3-\\frac{3}{5}dx = \\frac{-8}{9}$\n",
    "\n",
    "$A_2 = \\int_{-1}^{1}l_2dx$\n",
    "\n",
    "$l_2 = \\frac{x^2-\\sqrt{\\frac{3}{5}}x}{\\frac{6}{5}}$\n",
    "\n",
    "$A_2 = \\frac{5}{6}\\int_{-1}^{1}(x^2-\\sqrt{\\frac{3}{5}}x)dx=\\frac{5}{9}$\n",
    "\n",
    "$$\\int_{-1}^{1}f(x)dx=A_0f(-\\sqrt{\\frac{3}{5}})+A_1f(0)+A_2f(\\sqrt{\\frac{3}{5}})=\\frac{5}{9} \\ f(-\\sqrt{\\frac{3}{5}})-\\frac{8}{9} \\ f(0)+\\frac{5}{9} \\ f(\\sqrt{\\frac{3}{5}})$$"
   ]
  },
  {
   "cell_type": "markdown",
   "metadata": {},
   "source": [
    "#### (c)\n",
    "\n",
    "$\\int_{-1}^{1}xdx = 0$\n",
    "\n",
    "$\\frac{5}{9}f(-\\sqrt{\\frac{3}{5}})-\\frac{8}{9}f(0)+\\frac{5}{9}f(\\sqrt{\\frac{3}{5}}) = \\frac{5}{9}(-\\sqrt{\\frac{3}{5}})-\\frac{8}{9}0+\\frac{5}{9}\\sqrt{\\frac{3}{5}}=0$\n",
    "\n",
    "$\\int_{-1}^{1}x^2dx = \\frac{2}{3}$\n",
    "\n",
    "$\\frac{5}{9}f(-\\sqrt{\\frac{3}{5}})-\\frac{8}{9}f(0)+\\frac{5}{9}f(\\sqrt{\\frac{3}{5}}) = \\frac{5}{9}(\\frac{3}{5})-\\frac{8}{9}0+\\frac{5}{9}\\frac{3}{5}= \\frac{2}{3}$\n",
    "\n",
    "$\\int_{-1}^{1}x^3dx = 0$\n",
    "\n",
    "$\\frac{5}{9}f(-\\sqrt{\\frac{3}{5}})-\\frac{8}{9}f(0)+\\frac{5}{9}f(\\sqrt{\\frac{3}{5}}) = \\frac{5}{9}(-\\sqrt{\\frac{3}{5}})^3-\\frac{8}{9}0+\\frac{5}{9}(\\sqrt{\\frac{3}{5}})^3= 0$\n",
    "\n",
    "$\\int_{-1}^{1}x^4dx = \\frac{2}{5}$\n",
    "\n",
    "$\\frac{5}{9}f(-\\sqrt{\\frac{3}{5}})-\\frac{8}{9}f(0)+\\frac{5}{9}f(\\sqrt{\\frac{3}{5}}) = \\frac{5}{9}(\\frac{3}{5})^2-\\frac{8}{9}0+\\frac{5}{9}(\\frac{3}{5})^2= \\frac{2}{5}$\n",
    "\n",
    "$\\int_{-1}^{1}x^5dx = 0$\n",
    "\n",
    "$\\frac{5}{9}f(-\\sqrt{\\frac{3}{5}})-\\frac{8}{9}f(0)+\\frac{5}{9}f(\\sqrt{\\frac{3}{5}}) = \\frac{5}{9}(-\\sqrt{\\frac{3}{5}})^5-\\frac{8}{9}0+\\frac{5}{9}(\\sqrt{\\frac{3}{5}})^5= 0$\n",
    "\n",
    "$\\int_{-1}^{1}x^6dx = \\frac{2}{7}$\n",
    "\n",
    "$\\frac{5}{9}f(-\\sqrt{\\frac{3}{5}})-\\frac{8}{9}f(0)+\\frac{5}{9}f(\\sqrt{\\frac{3}{5}}) = \\frac{5}{9}(\\frac{3}{5})^3-\\frac{8}{9}0+\\frac{5}{9}(\\frac{3}{5})^3= \\frac{6}{25}$\n",
    "\n",
    "Thus, our precision is k=5 which matches the theoretical precsion of Gaussian quadrature of $2n+1$."
   ]
  },
  {
   "cell_type": "markdown",
   "metadata": {},
   "source": [
    " #### (d)\n",
    " \n",
    " $\\int_{-1}^{1}e^x dx= e-\\frac{1}{e}=2.35040$\n",
    " \n",
    " Gaussian Quadrature\n",
    " \n",
    " $\\sqrt{\\frac{3}{5}} = .7746$\n",
    " \n",
    " $\\frac{5}{9}e^{-.7746}-\\frac{8}{9}+\\frac{5}{9}e^{.7746}=2.35034$\n",
    " \n",
    " Error $=|2.35034-2.35040|=6.0e-05$\n",
    " \n",
    " Elementary Simpson's rule\n",
    " \n",
    " $\\frac{1}{3}[e^{-1}+4(1)+e^1]=2.36053$\n",
    " \n",
    " Error $= |2.36053-2.35040|=0.01013$\n",
    " \n",
    " As we can see the Gaussian Quadrature is a better approximation of $\\int_{-1}^{1}e^x dx$ than the Elementary Simpson's rule"
   ]
  },
  {
   "cell_type": "markdown",
   "metadata": {},
   "source": [
    "#### (e)\n",
    "\n",
    "$\\int_{a}^{b} f(x) = \\frac{b-a}{2}\\int_{-1}^{1}f(\\frac{b-a}{2}x+\\frac{a+b}{2})dx$\n",
    "\n",
    "$\\int_{a}^{b} f(x) \\approx \\frac{b-a}{2}[\\frac{5}{9}f(\\frac{b-a}{2}(-\\sqrt{\\frac{3}{5}})+\\frac{a+b}{2})-\\frac{8}{9}f(\\frac{a+b}{2})+\\frac{5}{9}f(\\frac{b-a}{2}(\\sqrt{\\frac{3}{5}})+\\frac{a+b}{2})]$"
   ]
  },
  {
   "cell_type": "markdown",
   "metadata": {},
   "source": [
    "$\\int_{0}^{4}\\frac{sin(x)}{x} \\approx 2[\\frac{5}{9}f(2(-\\sqrt{\\frac{3}{5}})+2)-\\frac{8}{9}f(2)+\\frac{5}{9}f(2(\\sqrt{\\frac{3}{5}})+2)]=1.339449858870461$"
   ]
  },
  {
   "cell_type": "code",
   "execution_count": null,
   "metadata": {},
   "outputs": [],
   "source": []
  }
 ],
 "metadata": {
  "kernelspec": {
   "display_name": "Python 3",
   "language": "python",
   "name": "python3"
  },
  "language_info": {
   "codemirror_mode": {
    "name": "ipython",
    "version": 3
   },
   "file_extension": ".py",
   "mimetype": "text/x-python",
   "name": "python",
   "nbconvert_exporter": "python",
   "pygments_lexer": "ipython3",
   "version": "3.6.5"
  }
 },
 "nbformat": 4,
 "nbformat_minor": 2
}
