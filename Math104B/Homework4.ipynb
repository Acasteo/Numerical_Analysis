{
 "cells": [
  {
   "cell_type": "markdown",
   "metadata": {},
   "source": [
    "# Homework 4\n",
    "\n",
    "## Austin Castelo\n",
    "\n",
    "### 1) (a)"
   ]
  },
  {
   "cell_type": "code",
   "execution_count": 127,
   "metadata": {},
   "outputs": [],
   "source": [
    "import numpy as np\n",
    "def A_b(A,b):\n",
    "    for i in range(len(A)):\n",
    "        A[i].append(b[i])\n",
    "    return A\n",
    "\n",
    "def Gaus(A,b):\n",
    "    L = []\n",
    "    A = A_b(A,b)\n",
    "    for i in range(len(A[0])-1):\n",
    "        index = i\n",
    "        m = A[i][i]\n",
    "        for j in range(i,len(A)):\n",
    "            if abs(A[j][i]) > abs(m):\n",
    "                m = A[j][i]\n",
    "                index = j\n",
    "        if m == 0:\n",
    "            return 'A is nonsingular'\n",
    "        r = A[index]\n",
    "        A[index] = A[i]\n",
    "        A[i] = r\n",
    "        Lᵢ = []\n",
    "        for n in range(len(A)):  \n",
    "            if n < i:\n",
    "                Lᵢ.append(0)\n",
    "            else:    \n",
    "                mult = A[n][i]/m\n",
    "                Lᵢ.append(mult)\n",
    "                for k in range(len(A[0])):\n",
    "                    if mult != 1:\n",
    "                        A[n][k] = A[n][k] - A[i][k]*mult\n",
    "        L.append(Lᵢ)\n",
    "    L = np.transpose(np.array(L))\n",
    "    A = np.array(A)\n",
    "    return [A,L]\n",
    "def Back_sub(A,b):\n",
    "    y = Gaus(A,b)\n",
    "    U = y[0]\n",
    "    L = y[1]\n",
    "    x = np.zeros(len(U[0])-1)\n",
    "    if U[-1][-2] == 0:\n",
    "        return \"A is nonsingular\"\n",
    "    x[-1] = U[-1][-1]/U[-1][-2]\n",
    "    for i in range(2,len(U)+1):\n",
    "        xᵢ = U[-i][-1]\n",
    "        for j in range(len(U[0])-1):\n",
    "            xᵢ -= U[-i][j]*x[j]\n",
    "        if U[-i][-(i+1)] == 0:\n",
    "            return \"A is nonsingular\"\n",
    "        xᵢ = xᵢ/U[-i][-(i+1)]\n",
    "        x[-i] = xᵢ\n",
    "    return x,U,L"
   ]
  },
  {
   "cell_type": "code",
   "execution_count": 128,
   "metadata": {},
   "outputs": [],
   "source": [
    "A = [[5,1,0,2,1],[0,4,0,1,2],[1,1,4,1,1],[0,1,2,6,0],[0,0,1,2,4]]\n",
    "b = [1,2,3,4,5]"
   ]
  },
  {
   "cell_type": "markdown",
   "metadata": {},
   "source": [
    "#### (b)"
   ]
  },
  {
   "cell_type": "code",
   "execution_count": 129,
   "metadata": {},
   "outputs": [
    {
     "data": {
      "text/plain": [
       "(array([-0.17083787, -0.06746464,  0.46028292,  0.52448313,  0.8726877 ]),\n",
       " array([[ 5.        ,  1.        ,  0.        ,  2.        ,  1.        ,\n",
       "          1.        ],\n",
       "        [ 0.        ,  4.        ,  0.        ,  1.        ,  2.        ,\n",
       "          2.        ],\n",
       "        [ 0.        ,  0.        ,  4.        ,  0.4       ,  0.4       ,\n",
       "          2.4       ],\n",
       "        [ 0.        ,  0.        ,  0.        ,  5.55      , -0.7       ,\n",
       "          2.3       ],\n",
       "        [ 0.        ,  0.        ,  0.        ,  0.        ,  4.13963964,\n",
       "          3.61261261]]),\n",
       " array([[1.        , 0.        , 0.        , 0.        , 0.        ],\n",
       "        [0.        , 1.        , 0.        , 0.        , 0.        ],\n",
       "        [0.2       , 0.2       , 1.        , 0.        , 0.        ],\n",
       "        [0.        , 0.25      , 0.5       , 1.        , 0.        ],\n",
       "        [0.        , 0.        , 0.25      , 0.34234234, 1.        ]]))"
      ]
     },
     "execution_count": 129,
     "metadata": {},
     "output_type": "execute_result"
    }
   ],
   "source": [
    "x = Back_sub(A,b)\n",
    "x"
   ]
  },
  {
   "cell_type": "markdown",
   "metadata": {},
   "source": [
    "#### (c)"
   ]
  },
  {
   "cell_type": "code",
   "execution_count": 100,
   "metadata": {},
   "outputs": [],
   "source": [
    "A = [[5,1,0,2],[0,4,0,8],[1,1,4,2],[0,1,2,2]]\n",
    "b = [1,2,3,4]"
   ]
  },
  {
   "cell_type": "code",
   "execution_count": 101,
   "metadata": {},
   "outputs": [
    {
     "data": {
      "text/plain": [
       "'A is nonsingular'"
      ]
     },
     "execution_count": 101,
     "metadata": {},
     "output_type": "execute_result"
    }
   ],
   "source": [
    "x = Back_sub(A,b)\n",
    "x"
   ]
  },
  {
   "cell_type": "code",
   "execution_count": null,
   "metadata": {},
   "outputs": [],
   "source": []
  }
 ],
 "metadata": {
  "kernelspec": {
   "display_name": "Python 3",
   "language": "python",
   "name": "python3"
  },
  "language_info": {
   "codemirror_mode": {
    "name": "ipython",
    "version": 3
   },
   "file_extension": ".py",
   "mimetype": "text/x-python",
   "name": "python",
   "nbconvert_exporter": "python",
   "pygments_lexer": "ipython3",
   "version": "3.6.8"
  }
 },
 "nbformat": 4,
 "nbformat_minor": 2
}
