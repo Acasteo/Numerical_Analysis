{
 "cells": [
  {
   "cell_type": "markdown",
   "metadata": {},
   "source": [
    "# Homework 2\n",
    "### Austin Castelo\n",
    "\n",
    "### 1\n",
    "\n",
    "$f(x) = e^x$\n",
    "\n",
    "#### (a) \n"
   ]
  },
  {
   "cell_type": "code",
   "execution_count": 88,
   "metadata": {},
   "outputs": [],
   "source": [
    "import numpy as np\n",
    "\n",
    "def f(x):\n",
    "    return np.e**x\n",
    "\n",
    "def D0_h(x_0,n):\n",
    "    h = 0.1/(2**n)\n",
    "    D = (f(x_0+h) - f(x_0-h))/(2*h)\n",
    "    return D"
   ]
  },
  {
   "cell_type": "code",
   "execution_count": 89,
   "metadata": {},
   "outputs": [
    {
     "data": {
      "text/plain": [
       "[1.6514705137461927,\n",
       " 1.6494083237722656,\n",
       " 1.6488930178661754,\n",
       " 1.6487642064853159,\n",
       " 1.6487320045835219,\n",
       " 1.6487239541670462,\n",
       " 1.6487219415666488,\n",
       " 1.6487214384166293,\n",
       " 1.6487213126291067,\n",
       " 1.6487212811830432,\n",
       " 1.6487212733215983]"
      ]
     },
     "execution_count": 89,
     "metadata": {},
     "output_type": "execute_result"
    }
   ],
   "source": [
    "D_n = []\n",
    "for i in range(11):\n",
    "    D_n.append(D0_h(0.5,i))\n",
    "D_n"
   ]
  },
  {
   "cell_type": "code",
   "execution_count": 90,
   "metadata": {},
   "outputs": [
    {
     "name": "stdout",
     "output_type": "stream",
     "text": [
      "4.001875293014308\n",
      "4.000468767990908\n",
      "4.000117188221117\n",
      "4.000029301751928\n",
      "4.000007396336765\n",
      "4.0000006354848825\n",
      "3.9999994351246286\n",
      "4.000103939769163\n",
      "4.000036153289949\n"
     ]
    }
   ],
   "source": [
    "for i in range(9):\n",
    "    print((D_n[i]- D_n[i+1])/(D_n[i+1]- D_n[i+2]))"
   ]
  },
  {
   "cell_type": "markdown",
   "metadata": {},
   "source": [
    "As we can see the centered difference approximation approaches a quadratic rate of convergence. The third to last term being $<4$ and the last two terms break from the convergent trend to 4 can be attributed to round-off error.\n",
    "\n",
    "##### (b)"
   ]
  },
  {
   "cell_type": "markdown",
   "metadata": {},
   "source": [
    "Since $f(x)=e^x$ is strictly increasing for $x>0$ and all of our interpolating points are $[0.4,0.6]$ we can take $M_3 = f^{'''}(0.6)$ "
   ]
  },
  {
   "cell_type": "code",
   "execution_count": 91,
   "metadata": {},
   "outputs": [
    {
     "data": {
      "text/plain": [
       "1.6487212707001282"
      ]
     },
     "execution_count": 91,
     "metadata": {},
     "output_type": "execute_result"
    }
   ],
   "source": [
    "f_x = f(0.5)\n",
    "f_x"
   ]
  },
  {
   "cell_type": "code",
   "execution_count": 92,
   "metadata": {},
   "outputs": [
    {
     "data": {
      "text/plain": [
       "8.447159163273983e-06"
      ]
     },
     "execution_count": 92,
     "metadata": {},
     "output_type": "execute_result"
    }
   ],
   "source": [
    "M_3 = f(0.6)\n",
    "eps = 2**(-52)\n",
    "h_0 = (f_x*3*eps/M_3)**(1/3)\n",
    "h_0"
   ]
  },
  {
   "cell_type": "code",
   "execution_count": 93,
   "metadata": {},
   "outputs": [
    {
     "data": {
      "text/plain": [
       "6.500818608505099e-11"
      ]
     },
     "execution_count": 93,
     "metadata": {},
     "output_type": "execute_result"
    }
   ],
   "source": [
    "E = 1/6*h_0**2*M_3+ f_x/h_0*eps\n",
    "E"
   ]
  },
  {
   "cell_type": "code",
   "execution_count": 111,
   "metadata": {},
   "outputs": [
    {
     "data": {
      "text/plain": [
       "4.158645196514398e-08"
      ]
     },
     "execution_count": 111,
     "metadata": {},
     "output_type": "execute_result"
    }
   ],
   "source": [
    "E = 1/24*h_0**2*M_3+ f_x/(h_0/2)*eps\n",
    "E"
   ]
  },
  {
   "cell_type": "code",
   "execution_count": 112,
   "metadata": {},
   "outputs": [
    {
     "data": {
      "text/plain": [
       "6.653676499167909e-07"
      ]
     },
     "execution_count": 112,
     "metadata": {},
     "output_type": "execute_result"
    }
   ],
   "source": [
    "E = 2/3*h_0**2*M_3+ f_x/(2*h_0)*eps\n",
    "E"
   ]
  },
  {
   "cell_type": "markdown",
   "metadata": {},
   "source": [
    "As we can see reducing $h_0$ by a factor of 2 leads to a larger increase in round-off error than the decrease in approximation error, and increasing $h_0$ by a factor of 2 leads to a greater increase in approximation error than decrease in round-off error. Thus, $h_0 \\approx 8.447159163273983e-06$"
   ]
  },
  {
   "cell_type": "markdown",
   "metadata": {},
   "source": [
    "#### (c)"
   ]
  },
  {
   "cell_type": "code",
   "execution_count": 96,
   "metadata": {},
   "outputs": [],
   "source": [
    "def R_D(x_0, n):\n",
    "    R = (4*D0_h(x_0,n+1) - D0_h(x_0,n))/3\n",
    "    return R"
   ]
  },
  {
   "cell_type": "markdown",
   "metadata": {},
   "source": [
    "Rate of convergence should be $O(h^4)$"
   ]
  },
  {
   "cell_type": "code",
   "execution_count": 113,
   "metadata": {},
   "outputs": [
    {
     "data": {
      "text/plain": [
       "[1.64872092711429,\n",
       " 1.648721249230812,\n",
       " 1.6487212693583626,\n",
       " 1.6487212706162573,\n",
       " 1.6487212706948877,\n",
       " 1.6487212706998495,\n",
       " 1.648721270699956,\n",
       " 1.6487212706999326,\n",
       " 1.648721270701022,\n",
       " 1.6487212707011167,\n",
       " 1.6487212707007377]"
      ]
     },
     "execution_count": 113,
     "metadata": {},
     "output_type": "execute_result"
    }
   ],
   "source": [
    "R_n = []\n",
    "for i in range(11):\n",
    "    R_n.append(R_D(0.5,i))\n",
    "R_n"
   ]
  },
  {
   "cell_type": "code",
   "execution_count": 114,
   "metadata": {},
   "outputs": [
    {
     "name": "stdout",
     "output_type": "stream",
     "text": [
      "16.003761703618792\n",
      "16.000982338385477\n",
      "15.997554501298994\n",
      "15.847131477669382\n",
      "46.55416666666667\n",
      "-4.528301886792453\n",
      "-0.02160619649408887\n",
      "11.489461358313818\n",
      "-0.2501464557703574\n"
     ]
    }
   ],
   "source": [
    "for i in range(9):\n",
    "    print((R_n[i]- R_n[i+1])/(R_n[i+1]- R_n[i+2]))"
   ]
  },
  {
   "cell_type": "code",
   "execution_count": 99,
   "metadata": {},
   "outputs": [
    {
     "data": {
      "text/plain": [
       "-4.96180874165475e-12"
      ]
     },
     "execution_count": 99,
     "metadata": {},
     "output_type": "execute_result"
    }
   ],
   "source": [
    "(R_D(0.5,4)- R_D(0.5, 5))"
   ]
  },
  {
   "cell_type": "code",
   "execution_count": 100,
   "metadata": {},
   "outputs": [
    {
     "data": {
      "text/plain": [
       "-1.0658141036401503e-13"
      ]
     },
     "execution_count": 100,
     "metadata": {},
     "output_type": "execute_result"
    }
   ],
   "source": [
    "(R_D(0.5,5)- R_D(0.5, 6))"
   ]
  },
  {
   "cell_type": "markdown",
   "metadata": {},
   "source": [
    "As we can see $q \\approx 16$ for the first 4 terms, thus the approximation error converges at $O(h^4)$, however after the first 4 terms round-off error begins to dominate our error calculations and we lose $O(h^4)$ convergence.\n",
    "\n",
    "Round-off error is still $O(\\frac{\\epsilon}{h})$ and minimium error is achieved when $O(h^4)=O(\\frac{\\epsilon}{h})$, therefore $h_0= \\epsilon^{1/5}$"
   ]
  },
  {
   "cell_type": "code",
   "execution_count": 101,
   "metadata": {},
   "outputs": [
    {
     "data": {
      "text/plain": [
       "0.000740095979741405"
      ]
     },
     "execution_count": 101,
     "metadata": {},
     "output_type": "execute_result"
    }
   ],
   "source": [
    "h_0 = eps**(1/5)\n",
    "h_0"
   ]
  },
  {
   "cell_type": "code",
   "execution_count": 102,
   "metadata": {},
   "outputs": [
    {
     "data": {
      "text/plain": [
       "4.107825191113079e-14"
      ]
     },
     "execution_count": 102,
     "metadata": {},
     "output_type": "execute_result"
    }
   ],
   "source": [
    "(4*((f(0.5+h_0/2) - f(0.5-h_0/2))/(h_0))-((f(0.5+h_0) - f(0.5-h_0))/(2*h_0)))/3 - f(0.5)"
   ]
  },
  {
   "cell_type": "markdown",
   "metadata": {},
   "source": [
    "As mentioned in the notes the minimium error of $D^{ext}_h(f(x_0))$ is $ \\approx 10^{-14}$ in double precision. The error at $h_0 = 0.000740095979741405$ is $4.107825191113079*10^{-14}$, thus $h_0 \\approx 0.000740095979741405$.\n",
    "\n",
    "#### (d)\n",
    "\n",
    "Let $r=1$"
   ]
  },
  {
   "cell_type": "code",
   "execution_count": 103,
   "metadata": {},
   "outputs": [],
   "source": [
    "def CTR(n):\n",
    "    h = 2*np.pi/n\n",
    "    T_h = (f(0.5 + 1)+ f(0.5 + np.e**(1j*2*np.pi))*np.e**-(1j*2*np.pi))/2\n",
    "    for i in range(1,n):\n",
    "        T_h += f(0.5 + np.e**(1j*h*i))*np.e**-(1j*h*i)\n",
    "    return T_h*h"
   ]
  },
  {
   "cell_type": "code",
   "execution_count": 104,
   "metadata": {},
   "outputs": [
    {
     "name": "stdout",
     "output_type": "stream",
     "text": [
      "(-2.8329677996379363+0j)\n",
      "(-0.28885793461258724+7.42785831001809e-17j)\n",
      "(-0.06902430145698624+7.401486830834377e-17j)\n",
      "(-0.013743887621111117+0j)\n",
      "(-0.0022899319577727173+6.661338147750939e-17j)\n",
      "(-0.000327127501018154-1.4802973661668753e-16j)\n",
      "(-4.0890905791846066e-05-3.172065784643304e-17j)\n",
      "(-4.543433840931144e-06+5.551115123125783e-17j)\n",
      "(-4.5434338313832257e-07+1.2335811384723961e-17j)\n",
      "(-4.130394404278093e-08+1.1102230246251566e-17j)\n",
      "(-3.4419951333575227e-09-5.046468293750712e-17j)\n",
      "(-2.6476798531405166e-10-9.25185853854297e-17j)\n",
      "(-1.891176104606984e-11-4.270088556250602e-17j)\n",
      "(-1.2603251775544777e-12-7.93016446160826e-18j)\n",
      "(-7.838174553853605e-14+0j)\n",
      "(-3.9968028886505635e-15+4.163336342344337e-17j)\n",
      "(2.220446049250313e-16+1.9592171022796878e-17j)\n",
      "(-6.661338147750939e-16+1.850371707708594e-17j)\n",
      "(2.220446049250313e-16-3.5059674461847047e-17j)\n"
     ]
    }
   ],
   "source": [
    "for i in range(1,20):\n",
    "    print(f(0.5)-(CTR(i)/(2*np.pi)))"
   ]
  },
  {
   "cell_type": "code",
   "execution_count": 105,
   "metadata": {},
   "outputs": [
    {
     "data": {
      "text/plain": [
       "(2.220446049250313e-16+1.9592171022796878e-17j)"
      ]
     },
     "execution_count": 105,
     "metadata": {},
     "output_type": "execute_result"
    }
   ],
   "source": [
    "f(0.5)-(CTR(17)/(2*np.pi))"
   ]
  },
  {
   "cell_type": "markdown",
   "metadata": {},
   "source": [
    "As we can see we reach machine precision with the composite trapezodial rule applied to Cauchy's Integral Formula with 18 equidistant interpolating nodes.\n",
    "\n",
    "\n",
    "### 2)"
   ]
  },
  {
   "cell_type": "markdown",
   "metadata": {},
   "source": [
    "$$D_h(f(x_0)) = \\frac{-f(x_0+2h)+4f(x_0+h)-3f(x_0)}{2h}$$"
   ]
  },
  {
   "cell_type": "markdown",
   "metadata": {},
   "source": [
    "$\\textbf{Proof:}$\n",
    "\n",
    "$ f^{'}(x_0)-D_h(f(x_0)) = \\frac{1}{3}h^2f^{'''}(\\epsilon) \\iff f^{'}(x_0) - \\frac{-f(x_0+2h)+4f(x_0+h)-3f(x_0)}{2h} = \\frac{1}{3}h^2f^{'''}(\\epsilon) $\n",
    "\n",
    "Taylor Series expansion\n",
    "\n",
    "$f(x_0+h)= f(x_0)+f^{'}(x_0)h+\\frac{1}{2}f^{''}(x_0)h^2+\\frac{1}{3!}f^{(3)}(\\epsilon_1)h^3$\n",
    "\n",
    "$f(x_0+2h)= f(x_0)+f^{'}(x_0)2h+\\frac{1}{2}f^{''}(x_0)4h^2+\\frac{1}{3!}f^{(3)}(\\epsilon_2)8h^3 = f(x_0)+2f^{'}(x_0)h+2f^{''}(x_0)h^2+\\frac{4}{3}f^{(3)}(\\epsilon_2)h^3$\n",
    "\n",
    "Where $x_0 \\leq \\epsilon_1 \\leq x_0+h$ and $x_0 \\leq \\epsilon_2 \\leq x_0+2h$\n",
    "\n",
    "Choose $\\epsilon = max{(\\epsilon_1,\\epsilon_2)}$\n",
    "\n",
    "$f^{'}(x_0) - \\frac{-f(x_0+2h)+4f(x_0+h)-3f(x_0)}{2h} = \\frac{1}{3}h^2f^{'''}(\\epsilon) \\iff f^{'}(x_0)- \\frac{-(f(x_0)+2f^{'}(x_0)h+2f^{''}(x_0)h^2+\\frac{4}{3}f^{(3)}(\\epsilon)h^3)+4(f(x_0)+f^{'}(x_0)h+\\frac{1}{2}f^{''}(x_0)h^2+\\frac{1}{3!}f^{(3)}(\\epsilon)h^3)-3f(x-0)}{2h} = \\frac{1}{3}h^2f^{'''}(\\epsilon)$\n",
    "\n",
    "$\\iff f^{'}(x_0)- \\frac{3f(x_0)+2f^{'}(x_0)h-\\frac{2}{3}f^{(3)}(\\epsilon)h^3-3f(x_0)}{2h} =  \\frac{1}{3}h^2f^{'''}(\\epsilon) $\n",
    "\n",
    "$\\iff f^{'}(x_0)-\\frac{2hf^{'}(x_0)-\\frac{2h^3}{3}f^{(3)}(\\epsilon)}{2h} = \\frac{1}{3}h^2f^{'''}(\\epsilon)$\n",
    "\n",
    "$\\iff f^{'}(x_0)-f^{'}(x_0)-\\frac{h^2}{3}f^{(3)}(\\epsilon)= \\frac{1}{3}h^2f^{'''}(\\epsilon)$\n",
    "\n",
    "$\\iff \\frac{1}{3}h^2f^{(3)}(\\epsilon)= \\frac{1}{3}h^2f^{'''}(\\epsilon)$"
   ]
  },
  {
   "cell_type": "markdown",
   "metadata": {},
   "source": [
    "### 3)\n",
    "\n",
    "#### (a)\n",
    "\n",
    "$\\textbf{Proof:}$\n",
    "\n",
    "$l_j(x)=\\frac{1}{\\alpha_j} \\prod^{n}_{k=0 k\\neq j} (x-x_k)$\n",
    "\n",
    "$\\iff \\alpha_j l_j(x)=\\prod^{n}_{k=0 k\\neq j} (x-x_k)$\n",
    "\n",
    "$\\iff ln(\\alpha_j l_j(x))= ln(\\prod^{n}_{k=0 k\\neq j} (x-x_k))= \\sum^{n}_{k=0 k\\neq j} ln(x-x_k)$\n",
    "\n",
    "Take derivative of left-hand side and right-hand side\n",
    "\n",
    "\n",
    "$\\frac{d}{dx} ln(\\alpha_j l_j(x))=\\frac{\\frac{d}{dx}(\\alpha_j l_j(x))}{\\alpha_j l_j(x)}=\\frac{\\alpha_j}{\\alpha_j}\\frac{1}{l_j(x)}l_j^{'}(x)= \\frac{l_j^{'}(x)}{l_j(x)}$\n",
    "\n",
    "$\\frac{d}{dx} \\sum^{n}_{k=0 k\\neq j} ln(x-x_k)=\\sum^{n}_{k=0 k\\neq j} \\frac{1}{x-x_k}$\n",
    "\n",
    "Then,\n",
    "\n",
    "$\\frac{l_j^{'}(x)}{l_j(x)}=\\sum^{n}_{k=0 k\\neq j} \\frac{1}{x-x_k} \\iff l^{'}_j(x)= l_j(x)[\\sum^{n}_{k=0 k\\neq j}\\frac{1}{x-x_k}]$"
   ]
  },
  {
   "cell_type": "markdown",
   "metadata": {},
   "source": [
    "#### (b)\n",
    "\n",
    "$\\textbf{Proof 1:} (D_n)_{ij}=\\frac{\\alpha_i}{\\alpha_j}\\frac{1}{x_i-x_j} $\n",
    "\n",
    "$(D_n)_{ij}=l^{'}_j(x_i)$\n",
    "\n",
    "Assume $i \\neq j$ and $l^{'}_j(x_i)= l_j(x_i)[\\sum^{n}_{k=0 k\\neq j}\\frac{1}{x_i-x_k}]$\n",
    "\n",
    "$l^{'}_j(x_i)= \\sum^{n}_{k=0 k\\neq j} \\frac{\\frac{1}{\\alpha_j} \\prod^{n}_{m=0 m\\neq j}(x_i-x_m)}{x_i-x_k}= \\sum^{n}_{k=0 k\\neq j} [{\\frac{1}{\\alpha_j} \\prod^{n}_{m=0 m\\neq j,k}(x_i-x_m)}\\frac{x_i-x_k}{x_i-x_k}]$\n",
    "\n",
    "for $x_i \\neq x_k$ for some $k \\in \\{1,2,...,n\\}-\\{j\\}$\n",
    "\n",
    "$l^{'}_j(x_i)= \\sum^{n}_{k=0, k\\neq j} \\frac{1}{\\alpha_j}\\prod^{n}_{m=0,m\\neq j,k}(x_i-x_m) = \\frac{1}{\\alpha_j}\\sum^{n}_{k=0, k\\neq j} \\prod^{n}_{m=0,m\\neq j,k}(x_i-x_m)$\n",
    "\n",
    "$\\forall k \\neq i \\prod^{n}_{m=0,m\\neq j,k}(x_i-x_m)=0$\n",
    "\n",
    "Then, $\\frac{1}{\\alpha_j}\\prod^{n}_{m=0,m\\neq j,k}(x_i-x_m)= \\frac{1}{\\alpha_j}\\alpha_i\\frac{1}{x_i-x_j}$\n",
    "\n",
    "$l^{'}_j=\\frac{\\alpha_i}{\\alpha_j}\\frac{1}{x_i-x_j} = (D_n)_{ij}$"
   ]
  },
  {
   "cell_type": "markdown",
   "metadata": {},
   "source": [
    "$\\textbf{Proof 2:} (D_n)_{ii}=\\sum^{n}_{k=0,k\\neq i}\\frac{1}{x_i-x_k}$\n",
    "\n",
    "$(D_n)_{ii}=l^{'}_i(x_i) = l_i(x_i)[\\sum^{n}_{k=0 k\\neq i}\\frac{1}{x_i-x_k}]$\n",
    "\n",
    "$l_i(x_i)= \\prod^{n}_{k=0, k\\neq j} \\frac{x_i-x_k}{x_i-x_k}= \\prod^{n}_{k=0, k\\neq j} 1$\n",
    "\n",
    "$l^{'}_i(x_i)= \\sum^{n}_{k=0 k\\neq i}\\frac{1}{x_i-x_k}$\n",
    "\n",
    "$(D_n)_{ii}=\\sum^{n}_{k=0 k\\neq i}\\frac{1}{x_i-x_k}$\n"
   ]
  },
  {
   "cell_type": "markdown",
   "metadata": {},
   "source": [
    "#### (c)\n",
    "\n",
    "$\\sum^{n}_{j=0}(D_n)_{ij}=\\sum^{n}_{j=0}\\frac{\\alpha_i}{\\alpha_j}\\frac{1}{x_i-x_j}+(D_n)_{ii}$\n",
    "\n",
    "Take i=0\n",
    "\n",
    "$\\sum^{n}_{j=0}(D_n)_{0j}=\\sum^{n}_{j=0}\\frac{\\alpha_0}{\\alpha_j}\\frac{1}{x_0-x_j}+\\sum^n_{k=1}\\frac{1}{x_0-x_k} =\\frac{\\alpha_0}{\\alpha_1}\\frac{1}{x_0-x_1}+\\frac{\\alpha_0}{\\alpha_2}\\frac{1}{x_0-x_2}+...+\\frac{\\alpha_0}{\\alpha_n}\\frac{1}{x_0-x_n}$\n",
    "\n",
    "$\\frac{(x_0-x_1)(x_0-x_2)...(x_0-x_n)}{(x_1-x_0)(x_1-x_2)...(x_1-x_n)}\\frac{1}{(x_0-x_1)} + \\frac{(x_0-x_1)(x_0-x_2)...(x_0-x_n)}{(x_2-x_0)(x_2-x_1)...(x_2-x_n)}\\frac{1}{(x_0-x_2)}...+\\frac{(x_0-x_1)(x_0-x_2)...(x_0-x_n)}{(x_n-x_0)(x_n-x_2)...(x_n-x_{n-1})}\\frac{1}{(x_0-x_n)} +\\frac{1}{x_0-x_1}+\\frac{1}{x_0-x_2}+...+\\frac{1}{x_0-x_n}$\n",
    "\n",
    "$= \\frac{-1}{x_0-x_1}+\\frac{-1}{x_0-x_2}+...+\\frac{-1}{x_0-x_n}+\\frac{1}{x_0-x_1}+\\frac{1}{x_0-x_2}+\\frac{1}{x_0-x_n} = 0$\n",
    "\n",
    "$\\rightarrow \\sum^{n}_{j=0}(D_n)_{0j}=0$\n",
    "\n",
    "Similiarly for other i's\n",
    "\n",
    "$\\frac{(x_i-x_1)(x_i-x_2)...(x_i-x_n)}{(x_1-x_0)(x_1-x_2)...(x_1-x_n)}\\frac{1}{(x_i-x_1)} + \\frac{(x_i-x_1)(x_i-x_2)...(x_i-x_n)}{(x_2-x_0)(x_2-x_1)...(x_2-x_n)}\\frac{1}{(x_i-x_2)}...+\\frac{(x_i-x_1)(x_i-x_2)...(x_i-x_n)}{(x_n-x_0)(x_n-x_2)...(x_n-x_{n-1})}\\frac{1}{(x_i-x_n)} +\\frac{1}{x_i-x_1}+\\frac{1}{x_i-x_2}+...+\\frac{1}{x_i-x_n}$\n",
    "\n",
    "$= \\frac{-1}{x_i-x_1}+\\frac{-1}{x_i-x_2}+...+\\frac{-1}{x_i-x_n}+\\frac{1}{x_i-x_1}+\\frac{1}{x_i-x_2}+\\frac{1}{x_i-x_n} = 0$\n",
    "\n",
    "$\\rightarrow \\sum^{n}_{j=0}(D_n)_{ij}=0 \\forall i=0,1,...,n$"
   ]
  },
  {
   "cell_type": "markdown",
   "metadata": {},
   "source": [
    "#### (d)\n",
    "\n",
    "$x=[-1,0,1]$\n",
    "\n",
    "$D_{0,0}= \\sum^{2}_{k=1} \\frac{1}{x_i-x_k} = \\frac{1}{x_0-x_1}+\\frac{1}{x_0-x_2}= \\frac{1}{-1-0}+\\frac{1}{-1-1}= -1+\\frac{1}{-2}= \\frac{-3}{2}$\n",
    "\n",
    "$D_{1,1}=\\frac{1}{0-(-1)}+\\frac{1}{0-1}= 1+ -1=0$\n",
    "\n",
    "$D_{2,2}=\\frac{1}{1-(-1)}+\\frac{1}{1-0}= \\frac{3}{2}$\n",
    "\n",
    "$\\alpha_0 = (x_0-x_1)(x_0-x_2)=(-1-0)(-1-1)=2$\n",
    "\n",
    "$\\alpha_1 = (x_1-x_2)(x_1-x_0)=(0-1)(0-(-1))=-1$\n",
    "\n",
    "$\\alpha_2 = (x_2-x_1)(x_2-x_0)=(1-0)(1-(-1))=2$\n",
    "\n",
    "$D_{01}=\\frac{\\alpha_0}{\\alpha_1}(x_0-x_1)=\\frac{2}{-1}(-1-0)=2$\n",
    "\n",
    "$D_{10}=\\frac{\\alpha_1}{\\alpha_0}(x_1-x_0)=\\frac{-1}{2}(0-(-1))=\\frac{-1}{2}$\n",
    "\n",
    "$D_{21}=\\frac{\\alpha_2}{\\alpha_1}(x_2-x_1)=\\frac{2}{-1}(1-0)=-2$\n",
    "\n",
    "$D_{12}=\\frac{\\alpha_1}{\\alpha_2}(x_1-x_2)=\\frac{-1}{2}(0-1)=\\frac{1}{2}$\n",
    "\n",
    "$D_{02}=\\frac{\\alpha_0}{\\alpha_2}(x_0-x_2)=\\frac{2}{2}(-1-1)=-2$\n",
    "\n",
    "$D_{20}=\\frac{\\alpha_2}{\\alpha_0}(x_2-x_0)=\\frac{2}{2}(1-(-1))=2$\n",
    "\n",
    "$\n",
    "D_2=\n",
    "  \\begin{bmatrix}\n",
    "    \\frac{-3}{2} & \\frac{-1}{2} & 2 \\\\\n",
    "    2 & 0 & -2 \\\\\n",
    "    -2 & \\frac{1}{2} & \\frac{3}{2}\n",
    "  \\end{bmatrix}\n",
    "$"
   ]
  },
  {
   "cell_type": "code",
   "execution_count": null,
   "metadata": {},
   "outputs": [],
   "source": []
  }
 ],
 "metadata": {
  "kernelspec": {
   "display_name": "Python 3",
   "language": "python",
   "name": "python3"
  },
  "language_info": {
   "codemirror_mode": {
    "name": "ipython",
    "version": 3
   },
   "file_extension": ".py",
   "mimetype": "text/x-python",
   "name": "python",
   "nbconvert_exporter": "python",
   "pygments_lexer": "ipython3",
   "version": "3.6.5"
  }
 },
 "nbformat": 4,
 "nbformat_minor": 2
}
