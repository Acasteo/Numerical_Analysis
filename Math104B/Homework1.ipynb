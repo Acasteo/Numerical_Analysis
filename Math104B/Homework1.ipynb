{
 "cells": [
  {
   "cell_type": "markdown",
   "metadata": {},
   "source": [
    "## Homework 1\n",
    "### Austin Castelo\n",
    "\n",
    "### 1\n",
    "$\\pm S * 2^E$\n",
    "\n",
    "$S = 1.b_1 b_2$ and $E=[-1,0,1]$\n",
    "\n",
    "#### a)\n",
    "\n",
    "This system can represent 24 numbers.\n",
    "\n",
    "$$\\pm 1.11*2^{-1} = \\pm \\frac{7}{8}$$   \n",
    "\n",
    "$$\\pm 1.11*2^{0} = \\pm \\frac{7}{4}$$\n",
    "\n",
    "$$\\pm 1.11*2^{1} = \\pm \\frac{7}{2}$$\n",
    "\n",
    "$$\\pm 1.00*2^{-1} = \\pm \\frac{1}{2}$$   \n",
    "\n",
    "$$\\pm 1.00*2^{0} = \\pm 1$$\n",
    "\n",
    "$$\\pm 1.00*2^{1} = \\pm 2$$\n",
    "\n",
    "$$\\pm 1.10*2^{-1} = \\pm \\frac{3}{4}$$   \n",
    "\n",
    "$$\\pm 1.10*2^{0} = \\pm \\frac{3}{2}$$\n",
    "\n",
    "$$\\pm 1.10*2^{1} = \\pm 3$$\n",
    "\n",
    "$$\\pm 1.01*2^{-1} = \\pm \\frac{5}{8}$$   \n",
    "\n",
    "$$\\pm 1.01*2^{0} = \\pm \\frac{5}{4}$$\n",
    "\n",
    "$$\\pm 1.01*2^{1} = \\pm \\frac{10}{4}$$\n",
    "\n",
    "#### b)"
   ]
  },
  {
   "cell_type": "code",
   "execution_count": 16,
   "metadata": {},
   "outputs": [
    {
     "data": {
      "image/png": "[encoded data removed]",
      "text/plain": [
       "<Figure size 432x288 with 1 Axes>"
      ]
     },
     "metadata": {},
     "output_type": "display_data"
    }
   ],
   "source": [
    "import numpy as np\n",
    "import matplotlib.pyplot as plt\n",
    "\n",
    "x = [-7/8, -7/4, -7/2, -1/2, -1, -2, -3/4, -3/2, -3, -5/8, -5/4, -10/4, 7/8, 7/4, 7/2, 1/2, 1, 2, 3/4, 3/2, 3, 5/8, 5/4, 10/4] \n",
    "\n",
    "\n",
    "plt.scatter(x, np.zeros_like(x))\n",
    "\n",
    "plt.yticks([])\n",
    "plt.show()"
   ]
  },
  {
   "cell_type": "markdown",
   "metadata": {},
   "source": [
    "#### c)\n",
    "\n",
    "The eps of this system is 0.5.\n",
    "\n",
    "### 2)\n",
    "\n",
    "Total combinations = $2^{64}$\n",
    "\n",
    "The total unique numbers that can be represented by double precision is $2^{64}-3$ due to signed 0 and $\\pm \\infty$.\n"
   ]
  },
  {
   "cell_type": "code",
   "execution_count": 14,
   "metadata": {},
   "outputs": [
    {
     "data": {
      "text/plain": [
       "18446744073709551613"
      ]
     },
     "execution_count": 14,
     "metadata": {},
     "output_type": "execute_result"
    }
   ],
   "source": [
    "2**64-3"
   ]
  },
  {
   "cell_type": "markdown",
   "metadata": {},
   "source": [
    "### 3)\n",
    "$x=2.5 \\space y=2.4$\n",
    "\n",
    "$(x-y)^2 = (2.5-2.4)^2= (0.1)^2 = 0.01$\n",
    "\n",
    "$x^2-2xy+y^2 = (2.5)^2-2(2.5)(2.4)+(2.4)^2 = 6.3 - 2(6.0)+ 5.8 = 0.1$\n",
    "\n",
    "### 4)"
   ]
  },
  {
   "cell_type": "code",
   "execution_count": 17,
   "metadata": {},
   "outputs": [
    {
     "data": {
      "text/plain": [
       "0.04997916927067833"
      ]
     },
     "execution_count": 17,
     "metadata": {},
     "output_type": "execute_result"
    }
   ],
   "source": [
    "np.sin(0.05)"
   ]
  },
  {
   "cell_type": "code",
   "execution_count": 5,
   "metadata": {},
   "outputs": [
    {
     "data": {
      "text/plain": [
       "2.083072932167196e-05"
      ]
     },
     "execution_count": 5,
     "metadata": {},
     "output_type": "execute_result"
    }
   ],
   "source": [
    "0.05-np.sin(0.05)"
   ]
  },
  {
   "cell_type": "markdown",
   "metadata": {},
   "source": [
    "We lose 3 digits of accuracy."
   ]
  },
  {
   "cell_type": "markdown",
   "metadata": {},
   "source": [
    "$x-sin(x) = x - (x-\\frac{x^3}{3!}+ \\frac{x^5}{5!}-\\frac{x^7}{7!}-...)$\n",
    "\n",
    "\n",
    "$\\frac{x^3}{3!}- \\frac{x^5}{5!}+\\frac{x^7}{7!}+...$"
   ]
  },
  {
   "cell_type": "markdown",
   "metadata": {},
   "source": [
    "### 5)\n",
    "\n",
    "$y = \\sqrt{1+x}-1$\n",
    "\n",
    "$\\iff y = \\sqrt{1+x}-1 * \\frac{\\sqrt{1+x}+1}{\\sqrt{1+x}+1}$\n",
    "\n",
    "$\\iff y = \\frac{1+x-1}{\\sqrt{1+x}+1}$\n",
    "\n",
    "$\\iff y = \\frac{x}{\\sqrt{1+x}+1}$ (1)\n",
    "\n",
    "(1) removes the digit cancelation problem because we are no longer subtracting two similiar values, $\\sqrt{1+x}$ and $1$ for x very small.\n",
    "\n",
    "### 6)"
   ]
  },
  {
   "cell_type": "code",
   "execution_count": 7,
   "metadata": {},
   "outputs": [
    {
     "data": {
      "text/plain": [
       "2.220446049250313e-16"
      ]
     },
     "execution_count": 7,
     "metadata": {},
     "output_type": "execute_result"
    }
   ],
   "source": [
    "# Machine p r e c i s i o n\n",
    "a=4/3\n",
    "b=a-1\n",
    "c=b+b+b\n",
    "eps0=abs(c-1)\n",
    "eps0"
   ]
  },
  {
   "cell_type": "code",
   "execution_count": 8,
   "metadata": {},
   "outputs": [
    {
     "data": {
      "text/plain": [
       "2.220446049250313e-16"
      ]
     },
     "execution_count": 8,
     "metadata": {},
     "output_type": "execute_result"
    }
   ],
   "source": [
    "2**(-52)"
   ]
  },
  {
   "cell_type": "code",
   "execution_count": null,
   "metadata": {},
   "outputs": [],
   "source": []
  }
 ],
 "metadata": {
  "kernelspec": {
   "display_name": "Python 3",
   "language": "python",
   "name": "python3"
  },
  "language_info": {
   "codemirror_mode": {
    "name": "ipython",
    "version": 3
   },
   "file_extension": ".py",
   "mimetype": "text/x-python",
   "name": "python",
   "nbconvert_exporter": "python",
   "pygments_lexer": "ipython3",
   "version": "3.6.5"
  }
 },
 "nbformat": 4,
 "nbformat_minor": 2
}
